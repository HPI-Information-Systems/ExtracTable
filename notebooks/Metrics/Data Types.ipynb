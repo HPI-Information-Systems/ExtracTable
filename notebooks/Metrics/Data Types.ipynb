{
 "cells": [
  {
   "cell_type": "code",
   "execution_count": 121,
   "metadata": {},
   "outputs": [],
   "source": [
    "from pymongo import MongoClient\n",
    "from pandas import DataFrame\n",
    "import regex\n",
    "from pathlib import Path\n",
    "from pydash import count_by\n",
    "from multiprocessing import Pool\n",
    "from tqdm import tqdm\n",
    "import matplotlib.pyplot as plt"
   ]
  },
  {
   "cell_type": "code",
   "execution_count": 2,
   "metadata": {},
   "outputs": [],
   "source": [
    "def load_patterns(known_patterns_file):\n",
    "    with open(known_patterns_file, mode='r') as file:\n",
    "        return [regex.compile(line.rstrip(), regex.UNICODE) for line in file if line[0] != '#']\n",
    "known_patterns = load_patterns(Path('./data_type_patterns.txt'))\n",
    "EMPTY = [\n",
    "    regex.compile(r''),  # epsilon\n",
    "    regex.compile(r'null', regex.IGNORECASE),  # null\n",
    "    regex.compile(r'unknown', regex.IGNORECASE),  # unknown\n",
    "    regex.compile(r'[?]+', regex.IGNORECASE),  # ???\n",
    "    regex.compile(r'[-]+', regex.IGNORECASE),  # ---\n",
    "    regex.compile(r'[*]+', regex.IGNORECASE),  # ***\n",
    "    regex.compile(r'[#]+', regex.IGNORECASE),  # ###\n",
    "    regex.compile(r'n/?a', regex.IGNORECASE),  # NA or N/A\n",
    "    regex.compile(r'nan', regex.IGNORECASE)  # NaN\n",
    "]\n",
    "def matches_empty(field: str) -> bool:\n",
    "    return any(\n",
    "        compiled_pattern.fullmatch(field)\n",
    "        for compiled_pattern in EMPTY\n",
    "    )\n",
    "def get_known_pattern_match(field):\n",
    "    if matches_empty(field):\n",
    "        return -1\n",
    "    return next(\n",
    "        (\n",
    "            i_pattern\n",
    "            for i_pattern, compiled_pattern in enumerate(known_patterns)\n",
    "            if compiled_pattern.fullmatch(field)\n",
    "        ),\n",
    "        None\n",
    "    )\n",
    "def get_values():\n",
    "    with MongoClient() as mongo:\n",
    "        db = mongo['master']\n",
    "        return db['lines'].aggregate([\n",
    "            {\n",
    "                '$unwind': {\n",
    "                    'path': '$post-processed'\n",
    "                }\n",
    "            }, {\n",
    "                '$project': {\n",
    "                    'value': '$post-processed', \n",
    "                    '_id': False\n",
    "                }\n",
    "            }\n",
    "        ])"
   ]
  },
  {
   "cell_type": "code",
   "execution_count": 3,
   "metadata": {},
   "outputs": [
    {
     "name": "stderr",
     "output_type": "stream",
     "text": [
      "104471196it [06:18, 276178.88it/s]                               \n"
     ]
    }
   ],
   "source": [
    "with Pool() as pool:\n",
    "    matches = list(tqdm(pool.imap_unordered(\n",
    "        get_known_pattern_match, \n",
    "        (value['value'] for value in get_values()), \n",
    "        chunksize=131072\n",
    "    ), total=104471187))"
   ]
  },
  {
   "cell_type": "markdown",
   "metadata": {},
   "source": [
    "match counts\n",
    "```\n",
    "{'Number': 87797387,\n",
    " 'Empty': 4366209,\n",
    " 'Text': 5149154,\n",
    " 'Unknown': 4131448,\n",
    " 'Hash': 1380440,\n",
    " 'Date': 1118010,\n",
    " 'File path': 32934,\n",
    " 'Boolean': 139136,\n",
    " 'Domain name': 63220,\n",
    " 'Brackets': 156745,\n",
    " 'E-Mail address': 444,\n",
    " 'URL': 124107,\n",
    " 'Percentage': 10845,\n",
    " 'Currency': 1080,\n",
    " 'IP address': 37}\n",
    " ```"
   ]
  },
  {
   "cell_type": "code",
   "execution_count": 139,
   "metadata": {},
   "outputs": [
    {
     "data": {
      "image/png": "[encoded data removed]",
      "text/plain": [
       "<Figure size 420.945x257.557 with 1 Axes>"
      ]
     },
     "metadata": {},
     "output_type": "display_data"
    }
   ],
   "source": [
    "# # data_type_map = {\n",
    "# #     None: 'Unknown',\n",
    "# #     -1: 'Empty',\n",
    "# #     0: 'Boolean',\n",
    "# #     1: 'Hash',\n",
    "# #     2: 'Brackets',\n",
    "# #     3: 'Percentage',\n",
    "# #     4: 'Currency',\n",
    "# #     5: 'Text',\n",
    "# #     6: 'URL',\n",
    "# #     7: 'Date',\n",
    "# #     8: 'Domain name',\n",
    "# #     9: 'E-Mail address',\n",
    "# #     10: 'IP address',\n",
    "# #     11: 'File path',\n",
    "# #     12: 'Number',\n",
    "# # }\n",
    "# # match_counts = {\n",
    "# #     data_type_map[key]: count\n",
    "# #     for key, count in count_by(matches).items()\n",
    "# # }\n",
    "total = sum(match_counts.values())\n",
    "\n",
    "df1 = DataFrame(\n",
    "    match_counts.items(), \n",
    "    columns=['Data type', 'Count']\n",
    ").set_index(\n",
    "    'Data type'\n",
    ")\n",
    "\n",
    "df = df1.sort_values(\n",
    "    by='Count', \n",
    "    ascending=False\n",
    ").nlargest(\n",
    "    4,\n",
    "    columns=['Count']\n",
    ")\n",
    "df.loc['Other'] = df1.nsmallest(df1.shape[0] - 4, columns=['Count'])['Count'].sum()\n",
    "df['expanded'] = df.apply(lambda row: row.name + ' (' + str(round(100 * row['Count'] / total)) + '\\%)', axis='columns')\n",
    "df.set_index('expanded', inplace=True)\n",
    "ax = df.plot(\n",
    "    kind='pie',\n",
    "    y='Count',\n",
    "    legend=False\n",
    ")\n",
    "\n",
    "ax.set(\n",
    "    ylabel=''\n",
    ")\n",
    "\n",
    "plt.tight_layout()\n",
    "ax.get_figure().savefig('data-type-distribution')"
   ]
  }
 ],
 "metadata": {
  "kernelspec": {
   "display_name": "Python 3",
   "language": "python",
   "name": "python3"
  },
  "language_info": {
   "codemirror_mode": {
    "name": "ipython",
    "version": 3
   },
   "file_extension": ".py",
   "mimetype": "text/x-python",
   "name": "python",
   "nbconvert_exporter": "python",
   "pygments_lexer": "ipython3",
   "version": "3.8.5"
  }
 },
 "nbformat": 4,
 "nbformat_minor": 5
}
