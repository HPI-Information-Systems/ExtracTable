{
 "cells": [
  {
   "cell_type": "code",
   "execution_count": 1,
   "metadata": {},
   "outputs": [],
   "source": [
    "from pymongo import MongoClient\n",
    "from statistics import mean, stdev\n",
    "from pandas import DataFrame\n",
    "from collections import Counter\n",
    "import matplotlib as mpl"
   ]
  },
  {
   "cell_type": "markdown",
   "metadata": {},
   "source": [
    "# Experiment 1\n",
    "\n",
    "How many files are finished after a certain time?"
   ]
  },
  {
   "cell_type": "code",
   "execution_count": 2,
   "metadata": {},
   "outputs": [],
   "source": [
    "def get_run_times_per_parser_for_all_success():\n",
    "    with MongoClient() as mongo:\n",
    "        db = mongo['master']\n",
    "        return db['metrics'].aggregate([\n",
    "            {\n",
    "                '$group': {\n",
    "                    '_id': '$fileId',\n",
    "                    'successCount': {\n",
    "                        '$sum': {\n",
    "                            '$cond': [\n",
    "                                {'$eq': ['$status', 'success']},\n",
    "                                1,\n",
    "                                0\n",
    "                            ]\n",
    "                        }    \n",
    "                    },\n",
    "                    'metrics': {\n",
    "                        '$push': {\n",
    "                            'parser': '$parser',\n",
    "                            'runTime': '$runTime'\n",
    "                        }\n",
    "                    }\n",
    "                }\n",
    "            },{\n",
    "                '$match': {'successCount': 5}    \n",
    "            },{\n",
    "                '$unwind': '$metrics'\n",
    "            },{\n",
    "                '$group': {\n",
    "                    '_id': '$metrics.parser',\n",
    "                    'runTimes': {\n",
    "                        '$push': '$metrics.runTime'\n",
    "                    }\n",
    "                }\n",
    "            }\n",
    "        ])"
   ]
  },
  {
   "cell_type": "code",
   "execution_count": 3,
   "metadata": {},
   "outputs": [
    {
     "data": {
      "text/plain": [
       "<matplotlib.axes._subplots.AxesSubplot at 0x7f56e50b72e0>"
      ]
     },
     "execution_count": 3,
     "metadata": {},
     "output_type": "execute_result"
    },
    {
     "name": "stderr",
     "output_type": "stream",
     "text": [
      "findfont: Font family ['serif'] not found. Falling back to DejaVu Sans.\n"
     ]
    },
    {
     "data": {
      "image/png": "[encoded data removed]",
      "text/plain": [
       "<Figure size 420.945x257.557 with 1 Axes>"
      ]
     },
     "metadata": {},
     "output_type": "display_data"
    }
   ],
   "source": [
    "run_times_per_parser = [*get_run_times_per_parser_for_all_success()]\n",
    "DataFrame([\n",
    "    {\n",
    "        'elapsedSeconds': elapsed_seconds,\n",
    "        **{\n",
    "            run_times['_id']: sum(run_time <= elapsed_seconds for run_time in run_times['runTimes'])\n",
    "            for run_times in run_times_per_parser\n",
    "        }\n",
    "    }\n",
    "    for elapsed_seconds in range(1, 181)\n",
    "]).plot(y=['cleverCSV', 'sniffer', 'tableExtractor', 'rfc4180', 'hypoparsr'], x='elapsedSeconds')"
   ]
  },
  {
   "cell_type": "markdown",
   "metadata": {},
   "source": [
    "# Experiment 2 - not meaningful\n",
    "\n",
    "What is the average run time/ std. dev. when partitioning the files by file type?"
   ]
  },
  {
   "cell_type": "code",
   "execution_count": 4,
   "metadata": {},
   "outputs": [],
   "source": [
    "def get_run_time_per_parser_by_file_type(file_type):\n",
    "    with MongoClient() as mongo:\n",
    "        db = mongo['master']\n",
    "        return db['metrics'].aggregate([\n",
    "            {\n",
    "                '$match': {\n",
    "                    **({'fileMetrics_fileType': file_type} if file_type else {})\n",
    "                }\n",
    "            },\n",
    "            {\n",
    "                '$group': {\n",
    "                    '_id': '$parser',\n",
    "                    'runTimes': {\n",
    "                        '$push': '$runTime'\n",
    "                    }\n",
    "                }\n",
    "            }\n",
    "        ])"
   ]
  },
  {
   "cell_type": "code",
   "execution_count": 5,
   "metadata": {},
   "outputs": [
    {
     "data": {
      "text/html": [
       "<div>\n",
       "<style scoped>\n",
       "    .dataframe tbody tr th:only-of-type {\n",
       "        vertical-align: middle;\n",
       "    }\n",
       "\n",
       "    .dataframe tbody tr th {\n",
       "        vertical-align: top;\n",
       "    }\n",
       "\n",
       "    .dataframe thead th {\n",
       "        text-align: right;\n",
       "    }\n",
       "</style>\n",
       "<table border=\"1\" class=\"dataframe\">\n",
       "  <thead>\n",
       "    <tr style=\"text-align: right;\">\n",
       "      <th></th>\n",
       "      <th>parser</th>\n",
       "      <th>avgRunTime</th>\n",
       "      <th>stdDeviation</th>\n",
       "    </tr>\n",
       "  </thead>\n",
       "  <tbody>\n",
       "    <tr>\n",
       "      <th>0</th>\n",
       "      <td>hypoparsr</td>\n",
       "      <td>18.092964</td>\n",
       "      <td>25.510724</td>\n",
       "    </tr>\n",
       "    <tr>\n",
       "      <th>1</th>\n",
       "      <td>cleverCSV</td>\n",
       "      <td>4.285401</td>\n",
       "      <td>16.087847</td>\n",
       "    </tr>\n",
       "    <tr>\n",
       "      <th>2</th>\n",
       "      <td>sniffer</td>\n",
       "      <td>1.396203</td>\n",
       "      <td>9.234676</td>\n",
       "    </tr>\n",
       "    <tr>\n",
       "      <th>3</th>\n",
       "      <td>rfc4180</td>\n",
       "      <td>0.002159</td>\n",
       "      <td>0.001688</td>\n",
       "    </tr>\n",
       "    <tr>\n",
       "      <th>4</th>\n",
       "      <td>tableExtractor</td>\n",
       "      <td>15.659268</td>\n",
       "      <td>27.140162</td>\n",
       "    </tr>\n",
       "  </tbody>\n",
       "</table>\n",
       "</div>"
      ],
      "text/plain": [
       "           parser  avgRunTime  stdDeviation\n",
       "0       hypoparsr   18.092964     25.510724\n",
       "1       cleverCSV    4.285401     16.087847\n",
       "2         sniffer    1.396203      9.234676\n",
       "3         rfc4180    0.002159      0.001688\n",
       "4  tableExtractor   15.659268     27.140162"
      ]
     },
     "execution_count": 5,
     "metadata": {},
     "output_type": "execute_result"
    }
   ],
   "source": [
    "DataFrame([\n",
    "    {\n",
    "        'parser': run_times['_id'],\n",
    "        'avgRunTime': mean(run_time for run_time in run_times['runTimes'] if not (run_time is None)),\n",
    "        'stdDeviation': stdev(run_time for run_time in run_times['runTimes'] if not (run_time is None))\n",
    "    }\n",
    "    for run_times in get_run_time_per_parser_by_file_type('simple')\n",
    "])"
   ]
  },
  {
   "cell_type": "code",
   "execution_count": 6,
   "metadata": {},
   "outputs": [
    {
     "data": {
      "text/html": [
       "<div>\n",
       "<style scoped>\n",
       "    .dataframe tbody tr th:only-of-type {\n",
       "        vertical-align: middle;\n",
       "    }\n",
       "\n",
       "    .dataframe tbody tr th {\n",
       "        vertical-align: top;\n",
       "    }\n",
       "\n",
       "    .dataframe thead th {\n",
       "        text-align: right;\n",
       "    }\n",
       "</style>\n",
       "<table border=\"1\" class=\"dataframe\">\n",
       "  <thead>\n",
       "    <tr style=\"text-align: right;\">\n",
       "      <th></th>\n",
       "      <th>parser</th>\n",
       "      <th>avgRunTime</th>\n",
       "      <th>stdDeviation</th>\n",
       "    </tr>\n",
       "  </thead>\n",
       "  <tbody>\n",
       "    <tr>\n",
       "      <th>0</th>\n",
       "      <td>hypoparsr</td>\n",
       "      <td>16.154595</td>\n",
       "      <td>21.679789</td>\n",
       "    </tr>\n",
       "    <tr>\n",
       "      <th>1</th>\n",
       "      <td>cleverCSV</td>\n",
       "      <td>3.959834</td>\n",
       "      <td>12.450120</td>\n",
       "    </tr>\n",
       "    <tr>\n",
       "      <th>2</th>\n",
       "      <td>sniffer</td>\n",
       "      <td>2.018345</td>\n",
       "      <td>13.568058</td>\n",
       "    </tr>\n",
       "    <tr>\n",
       "      <th>3</th>\n",
       "      <td>rfc4180</td>\n",
       "      <td>0.002127</td>\n",
       "      <td>0.001698</td>\n",
       "    </tr>\n",
       "    <tr>\n",
       "      <th>4</th>\n",
       "      <td>tableExtractor</td>\n",
       "      <td>14.123829</td>\n",
       "      <td>25.316937</td>\n",
       "    </tr>\n",
       "  </tbody>\n",
       "</table>\n",
       "</div>"
      ],
      "text/plain": [
       "           parser  avgRunTime  stdDeviation\n",
       "0       hypoparsr   16.154595     21.679789\n",
       "1       cleverCSV    3.959834     12.450120\n",
       "2         sniffer    2.018345     13.568058\n",
       "3         rfc4180    0.002127      0.001698\n",
       "4  tableExtractor   14.123829     25.316937"
      ]
     },
     "execution_count": 6,
     "metadata": {},
     "output_type": "execute_result"
    }
   ],
   "source": [
    "DataFrame([\n",
    "    {\n",
    "        'parser': run_times['_id'],\n",
    "        'avgRunTime': mean(run_time for run_time in run_times['runTimes'] if not (run_time is None)),\n",
    "        'stdDeviation': stdev(run_time for run_time in run_times['runTimes'] if not (run_time is None))\n",
    "    }\n",
    "    for run_times in get_run_time_per_parser_by_file_type('complex_single')\n",
    "])"
   ]
  },
  {
   "cell_type": "code",
   "execution_count": 7,
   "metadata": {},
   "outputs": [
    {
     "data": {
      "text/html": [
       "<div>\n",
       "<style scoped>\n",
       "    .dataframe tbody tr th:only-of-type {\n",
       "        vertical-align: middle;\n",
       "    }\n",
       "\n",
       "    .dataframe tbody tr th {\n",
       "        vertical-align: top;\n",
       "    }\n",
       "\n",
       "    .dataframe thead th {\n",
       "        text-align: right;\n",
       "    }\n",
       "</style>\n",
       "<table border=\"1\" class=\"dataframe\">\n",
       "  <thead>\n",
       "    <tr style=\"text-align: right;\">\n",
       "      <th></th>\n",
       "      <th>parser</th>\n",
       "      <th>avgRunTime</th>\n",
       "      <th>stdDeviation</th>\n",
       "    </tr>\n",
       "  </thead>\n",
       "  <tbody>\n",
       "    <tr>\n",
       "      <th>0</th>\n",
       "      <td>rfc4180</td>\n",
       "      <td>0.002486</td>\n",
       "      <td>0.001633</td>\n",
       "    </tr>\n",
       "    <tr>\n",
       "      <th>1</th>\n",
       "      <td>sniffer</td>\n",
       "      <td>0.967865</td>\n",
       "      <td>3.392138</td>\n",
       "    </tr>\n",
       "    <tr>\n",
       "      <th>2</th>\n",
       "      <td>cleverCSV</td>\n",
       "      <td>4.240471</td>\n",
       "      <td>18.599283</td>\n",
       "    </tr>\n",
       "    <tr>\n",
       "      <th>3</th>\n",
       "      <td>hypoparsr</td>\n",
       "      <td>16.098713</td>\n",
       "      <td>23.091916</td>\n",
       "    </tr>\n",
       "    <tr>\n",
       "      <th>4</th>\n",
       "      <td>tableExtractor</td>\n",
       "      <td>12.914668</td>\n",
       "      <td>19.503208</td>\n",
       "    </tr>\n",
       "  </tbody>\n",
       "</table>\n",
       "</div>"
      ],
      "text/plain": [
       "           parser  avgRunTime  stdDeviation\n",
       "0         rfc4180    0.002486      0.001633\n",
       "1         sniffer    0.967865      3.392138\n",
       "2       cleverCSV    4.240471     18.599283\n",
       "3       hypoparsr   16.098713     23.091916\n",
       "4  tableExtractor   12.914668     19.503208"
      ]
     },
     "execution_count": 7,
     "metadata": {},
     "output_type": "execute_result"
    }
   ],
   "source": [
    "DataFrame([\n",
    "    {\n",
    "        'parser': run_times['_id'],\n",
    "        'avgRunTime': mean(run_time for run_time in run_times['runTimes'] if not (run_time is None)),\n",
    "        'stdDeviation': stdev(run_time for run_time in run_times['runTimes'] if not (run_time is None))\n",
    "    }\n",
    "    for run_times in get_run_time_per_parser_by_file_type('complex_multi')\n",
    "])"
   ]
  },
  {
   "cell_type": "markdown",
   "metadata": {},
   "source": [
    "# Experiment 3\n",
    "\n",
    "Is the run time depending on file size?"
   ]
  },
  {
   "cell_type": "code",
   "execution_count": 8,
   "metadata": {},
   "outputs": [],
   "source": [
    "def get_run_times_per_parser_per_file():\n",
    "    with MongoClient() as mongo:\n",
    "        db = mongo['master']\n",
    "        return db['metrics'].aggregate([\n",
    "            {\n",
    "                '$addFields': {\n",
    "                    'lineCountBin': {\n",
    "                        '$toInt': {\n",
    "                            '$divide': [\n",
    "                                '$lineMetrics_lineCount', 1000\n",
    "                            ]\n",
    "                        }\n",
    "                    }\n",
    "                }\n",
    "            }, {\n",
    "                '$group': {\n",
    "                    '_id': {\n",
    "                        'fileId': '$fileId', \n",
    "                        'bin': '$lineCountBin'\n",
    "#                         'bin': '$lineMetrics_lineCount'\n",
    "                    }, \n",
    "                    'successCount': {\n",
    "                        '$sum': {\n",
    "                            '$cond': [\n",
    "                                {\n",
    "                                    '$eq': [\n",
    "                                        '$status', 'success'\n",
    "                                    ]\n",
    "                                }, 1, 0\n",
    "                            ]\n",
    "                        }\n",
    "                    }, \n",
    "                    'metrics': {\n",
    "                        '$push': {\n",
    "                            'parser': '$parser', \n",
    "                            'runTime': '$runTime'\n",
    "                        }\n",
    "                    }\n",
    "                }\n",
    "            }, {\n",
    "                '$match': {\n",
    "                    'successCount': 5\n",
    "                }\n",
    "            }\n",
    "        ])"
   ]
  },
  {
   "cell_type": "code",
   "execution_count": 9,
   "metadata": {},
   "outputs": [
    {
     "data": {
      "text/plain": [
       "Text(0, 0.5, 'line count 1,000')"
      ]
     },
     "execution_count": 9,
     "metadata": {},
     "output_type": "execute_result"
    },
    {
     "data": {
      "image/png": "[encoded data removed]",
      "text/plain": [
       "<Figure size 420.945x257.557 with 1 Axes>"
      ]
     },
     "metadata": {},
     "output_type": "display_data"
    }
   ],
   "source": [
    "df = DataFrame([\n",
    "    {\n",
    "        'bin': metrics['_id']['bin'],\n",
    "        **{\n",
    "            parser_metric['parser']: parser_metric['runTime']\n",
    "            for parser_metric in metrics['metrics']\n",
    "        }\n",
    "    }\n",
    "    for metrics in get_run_times_per_parser_per_file()\n",
    "])\n",
    "ax1 = df.plot(kind='scatter', x='tableExtractor', label='tableExtractor', y='bin', color=mpl.rcParams['axes.prop_cycle'].by_key()['color'][0])\n",
    "ax2 = df.plot(kind='scatter', x='hypoparsr', label='hypoparsr', y='bin', ax=ax1, color=mpl.rcParams['axes.prop_cycle'].by_key()['color'][1])\n",
    "ax3 = df.plot(kind='scatter', x='cleverCSV', label='cleverCSV', y='bin', ax=ax2, color=mpl.rcParams['axes.prop_cycle'].by_key()['color'][2])\n",
    "ax4 = df.plot(kind='scatter', x='sniffer', label='sniffer', y='bin', ax=ax3, color=mpl.rcParams['axes.prop_cycle'].by_key()['color'][3])\n",
    "ax4.set_xlabel('run time in seconds')\n",
    "ax4.set_ylabel('line count 1,000')"
   ]
  },
  {
   "cell_type": "markdown",
   "metadata": {},
   "source": [
    "# Experiment 4\n",
    "\n",
    "What is the average run time/ std. dev for processing a single line?"
   ]
  },
  {
   "cell_type": "code",
   "execution_count": 10,
   "metadata": {},
   "outputs": [],
   "source": [
    "def get_runtimes_per_line_per_parser():\n",
    "    with MongoClient() as mongo:\n",
    "        db = mongo['master']\n",
    "        return db['metrics'].aggregate([\n",
    "            {\n",
    "                '$group': {\n",
    "                    '_id': '$fileId', \n",
    "                    'successCount': {\n",
    "                        '$sum': {\n",
    "                            '$cond': [\n",
    "                                {\n",
    "                                    '$eq': [\n",
    "                                        '$status', 'success'\n",
    "                                    ]\n",
    "                                }, 1, 0\n",
    "                            ]\n",
    "                        }\n",
    "                    }, \n",
    "                    'metrics': {\n",
    "                        '$push': {\n",
    "                            'parser': '$parser', \n",
    "                            'runTime': {\n",
    "                                '$divide': [\n",
    "                                    '$runTime', '$lineMetrics_lineCount'\n",
    "                                ]\n",
    "                            }\n",
    "                        }\n",
    "                    }\n",
    "                }\n",
    "            }, {\n",
    "                '$match': {\n",
    "                    'successCount': 5\n",
    "                }\n",
    "            }, {\n",
    "                '$unwind': {\n",
    "                    'path': '$metrics'\n",
    "                }\n",
    "            }\n",
    "        ])"
   ]
  },
  {
   "cell_type": "code",
   "execution_count": 24,
   "metadata": {
    "scrolled": false
   },
   "outputs": [
    {
     "data": {
      "image/png": "[encoded data removed]",
      "text/plain": [
       "<Figure size 420.945x257.557 with 1 Axes>"
      ]
     },
     "metadata": {},
     "output_type": "display_data"
    }
   ],
   "source": [
    "parser_map = {'cleverCSV': 'CleverCSV', 'hypoparsr': 'Hypoparsr', 'rfc4180': 'RFC 4180', 'sniffer': 'Sniffer', 'tableExtractor': 'ExtracTable'}\n",
    "sort_parser_dict = {'RFC 4180': 0, 'Hypoparsr': 1, 'Sniffer': 2, 'CleverCSV': 3, 'ExtracTable': 4}\n",
    "df = DataFrame([\n",
    "    {\n",
    "        'parser': parser_map[run_times_per_parser['metrics']['parser']],\n",
    "        'runTimes': run_times_per_parser['metrics']['runTime'] * 1000\n",
    "    }\n",
    "    for run_times_per_parser in get_runtimes_per_line_per_parser()\n",
    "]).sort_values(\n",
    "    by='parser', \n",
    "    key=lambda parser: parser.map(sort_parser_dict),\n",
    "    ascending=True\n",
    ")\n",
    "\n",
    "ax = df.boxplot(\n",
    "    by='parser',\n",
    "    positions=[4,5,3,1,2],\n",
    "    color=dict(boxes='#595959', whiskers='#595959', medians='#595959', caps='#595959'),\n",
    "    \n",
    "    patch_artist=True\n",
    ")\n",
    "\n",
    "[ax.findobj(mpl.patches.Patch)[p].set(alpha=None, facecolor='#59595900', edgecolor='#595959') for p in range(5) if p != 1]\n",
    "ax.findobj(mpl.patches.Patch)[1].set(alpha=None, facecolor='#C9DAF780', edgecolor='#4A86E8')\n",
    "\n",
    "\n",
    "ax.set(\n",
    "    xlabel='Parser',\n",
    "    ylabel='Run time per line (ms)',\n",
    "    yscale='log',\n",
    "    title=''\n",
    ")\n",
    "\n",
    "plt.suptitle('')\n",
    "\n",
    "plt.tight_layout()\n",
    "# ax.get_figure().savefig('run-time-line-level')"
   ]
  },
  {
   "cell_type": "code",
   "execution_count": 12,
   "metadata": {},
   "outputs": [],
   "source": [
    "def get_runtimes_per_line_per_parser_simple():\n",
    "    with MongoClient() as mongo:\n",
    "        db = mongo['master']\n",
    "        return db['metrics'].aggregate([\n",
    "            {\n",
    "                '$lookup': {\n",
    "                    'from': 'metrics_simple_180', \n",
    "                    'localField': 'fileId', \n",
    "                    'foreignField': 'fileId', \n",
    "                    'as': 'simple'\n",
    "                }\n",
    "            }, {\n",
    "                '$unwind': {\n",
    "                    'path': '$simple'\n",
    "                }\n",
    "            }, {\n",
    "                '$match': {\n",
    "                    'simple.status': 'success'\n",
    "                }\n",
    "            }, {\n",
    "                '$group': {\n",
    "                    '_id': '$fileId', \n",
    "                    'successCount': {\n",
    "                        '$sum': {\n",
    "                            '$cond': [\n",
    "                                {\n",
    "                                    '$eq': [\n",
    "                                        '$status', 'success'\n",
    "                                    ]\n",
    "                                }, 1, 0\n",
    "                            ]\n",
    "                        }\n",
    "                    }, \n",
    "                    'metrics': {\n",
    "                        '$push': {\n",
    "                            'parser': '$parser', \n",
    "                            'runTime': {\n",
    "                                '$divide': [\n",
    "                                    '$runTime', '$lineMetrics_lineCount'\n",
    "                                ]\n",
    "                            }\n",
    "                        }\n",
    "                    }, \n",
    "                    'simple': {\n",
    "                        '$push': {\n",
    "                            'parser': 'simple', \n",
    "                            'runTime': {\n",
    "                                '$divide': [\n",
    "                                    '$simple.runTime', '$lineMetrics_lineCount'\n",
    "                                ]\n",
    "                            }\n",
    "                        }\n",
    "                    }\n",
    "                }\n",
    "            }, {\n",
    "                '$match': {\n",
    "                    'successCount': 5\n",
    "                }\n",
    "            }, {\n",
    "                '$project': {\n",
    "                    'metrics': {\n",
    "                        '$concatArrays': [\n",
    "                            '$metrics', [\n",
    "                                {\n",
    "                                    '$first': '$simple'\n",
    "                                }\n",
    "                            ]\n",
    "                        ]\n",
    "                    }\n",
    "                }\n",
    "            }, {\n",
    "                '$unwind': {\n",
    "                    'path': '$metrics'\n",
    "                }\n",
    "            }\n",
    "        ])"
   ]
  },
  {
   "cell_type": "code",
   "execution_count": 25,
   "metadata": {},
   "outputs": [
    {
     "data": {
      "image/png": "[encoded data removed]",
      "text/plain": [
       "<Figure size 420.945x257.557 with 1 Axes>"
      ]
     },
     "metadata": {},
     "output_type": "display_data"
    }
   ],
   "source": [
    "parser_map = {'cleverCSV': 'CleverCSV', 'hypoparsr': 'Hypoparsr', 'rfc4180': 'RFC 4180', 'sniffer': 'Sniffer', 'tableExtractor': 'ExtracTable', 'simple': 'ExtracTable (simple)'}\n",
    "sort_parser_dict = {'RFC 4180': 0, 'Hypoparsr': 1, 'Sniffer': 2, 'CleverCSV': 3, 'ExtracTable': 4, 'ExtracTable (simple)': 5}\n",
    "df = DataFrame([\n",
    "    {\n",
    "        'parser': parser_map[run_times_per_parser['metrics']['parser']],\n",
    "        'runTimes': run_times_per_parser['metrics']['runTime'] * 1000\n",
    "    }\n",
    "    for run_times_per_parser in get_runtimes_per_line_per_parser_simple()\n",
    "]).sort_values(\n",
    "    by='parser', \n",
    "    key=lambda parser: parser.map(sort_parser_dict),\n",
    "    ascending=True\n",
    ")\n",
    "\n",
    "ax = df.boxplot(\n",
    "    by='parser',\n",
    "    positions=[4,5,6,3,1,2],\n",
    "    color=dict(boxes='#595959', whiskers='#595959', medians='#595959', caps='#595959'),\n",
    "    \n",
    "    patch_artist=True\n",
    ")\n",
    "\n",
    "[ax.findobj(mpl.patches.Patch)[p].set(alpha=None, facecolor='#59595900', edgecolor='#595959') for p in range(6) if p != 1]\n",
    "ax.findobj(mpl.patches.Patch)[1].set(alpha=None, facecolor='#C9DAF780', edgecolor='#4A86E8')\n",
    "\n",
    "\n",
    "ax.set(\n",
    "    xlabel='Parser',\n",
    "    ylabel='Run time per line (ms)',\n",
    "    yscale='log',\n",
    "    title=''\n",
    ")\n",
    "\n",
    "plt.suptitle('')\n",
    "\n",
    "plt.tight_layout()\n",
    "# ax.get_figure().savefig('run-time-line-level')"
   ]
  },
  {
   "cell_type": "code",
   "execution_count": 14,
   "metadata": {},
   "outputs": [],
   "source": [
    "def get_runtimes_per_line_per_parser_include_pytheas():\n",
    "    with MongoClient() as mongo:\n",
    "        db = mongo['master']\n",
    "        return db['metrics'].aggregate([\n",
    "            {\n",
    "                '$lookup': {\n",
    "                    'from': 'pytheas', \n",
    "                    'localField': 'fileId', \n",
    "                    'foreignField': 'fileId', \n",
    "                    'as': 'pytheas'\n",
    "                }\n",
    "            }, {\n",
    "                '$unwind': {\n",
    "                    'path': '$pytheas'\n",
    "                }\n",
    "            }, {\n",
    "                '$match': {\n",
    "                    'pytheas.status': 'success'\n",
    "                }\n",
    "            }, {\n",
    "                '$group': {\n",
    "                    '_id': '$fileId', \n",
    "                    'successCount': {\n",
    "                        '$sum': {\n",
    "                            '$cond': [\n",
    "                                {\n",
    "                                    '$eq': [\n",
    "                                        '$status', 'success'\n",
    "                                    ]\n",
    "                                }, 1, 0\n",
    "                            ]\n",
    "                        }\n",
    "                    }, \n",
    "                    'metrics': {\n",
    "                        '$push': {\n",
    "                            'parser': '$parser', \n",
    "                            'runTime': {\n",
    "                                '$divide': [\n",
    "                                    '$runTime', '$lineMetrics_lineCount'\n",
    "                                ]\n",
    "                            }\n",
    "                        }\n",
    "                    }, \n",
    "                    'pytheas': {\n",
    "                        '$push': {\n",
    "                            'parser': 'pytheas', \n",
    "                            'runTime': {\n",
    "                                '$divide': [\n",
    "                                    '$pytheas.runTime', '$lineMetrics_lineCount'\n",
    "                                ]\n",
    "                            }\n",
    "                        }\n",
    "                    }\n",
    "                }\n",
    "            }, {\n",
    "                '$match': {\n",
    "                    'successCount': 5\n",
    "                }\n",
    "            }, {\n",
    "                '$project': {\n",
    "                    'metrics': {\n",
    "                        '$concatArrays': [\n",
    "                            '$metrics', [\n",
    "                                {\n",
    "                                    '$first': '$pytheas'\n",
    "                                }\n",
    "                            ]\n",
    "                        ]\n",
    "                    }\n",
    "                }\n",
    "            }, {\n",
    "                '$unwind': {\n",
    "                    'path': '$metrics'\n",
    "                }\n",
    "            }\n",
    "        ])"
   ]
  },
  {
   "cell_type": "code",
   "execution_count": 30,
   "metadata": {},
   "outputs": [
    {
     "data": {
      "image/png": "[encoded data removed]",
      "text/plain": [
       "<Figure size 420.945x257.557 with 1 Axes>"
      ]
     },
     "metadata": {},
     "output_type": "display_data"
    }
   ],
   "source": [
    "parser_map = {'cleverCSV': 'CleverCSV', 'hypoparsr': 'Hypoparsr', 'rfc4180': 'RFC 4180', 'sniffer': 'Sniffer', 'tableExtractor': 'ExtracTable', 'pytheas': 'Pytheas'}\n",
    "sort_parser_dict = {'RFC 4180': 0, 'Hypoparsr': 1, 'Sniffer': 2, 'CleverCSV': 3, 'Pytheas': 4, 'ExtracTable': 5}\n",
    "df = DataFrame([\n",
    "    {\n",
    "        'parser': parser_map[run_times_per_parser['metrics']['parser']],\n",
    "        'runTimes': run_times_per_parser['metrics']['runTime'] * 1000 + 1  # + 1 to increase readability\n",
    "    }\n",
    "    for run_times_per_parser in get_runtimes_per_line_per_parser_include_pytheas()\n",
    "]).sort_values(\n",
    "    by='parser', \n",
    "    key=lambda parser: parser.map(sort_parser_dict),\n",
    "    ascending=True\n",
    ")\n",
    "\n",
    "ax = df.boxplot(\n",
    "    by='parser',\n",
    "    positions=[4,6,3,5,1,2],\n",
    "    color=dict(boxes='#595959', whiskers='#595959', medians='#595959', caps='#595959'),\n",
    "    \n",
    "    patch_artist=True\n",
    ")\n",
    "\n",
    "[ax.findobj(mpl.patches.Patch)[p].set(alpha=None, facecolor='#59595900', edgecolor='#595959') for p in range(6) if p != 1]\n",
    "ax.findobj(mpl.patches.Patch)[1].set(alpha=None, facecolor='#C9DAF780', edgecolor='#4A86E8')\n",
    "\n",
    "\n",
    "ax.set(\n",
    "    xlabel='',\n",
    "    ylabel='Run time per line (ms)',\n",
    "    yscale='log',\n",
    "    title=''\n",
    ")\n",
    "\n",
    "plt.suptitle('')\n",
    "\n",
    "plt.tight_layout()\n",
    "ax.get_figure().savefig('run-time-line-level')"
   ]
  },
  {
   "cell_type": "markdown",
   "metadata": {},
   "source": [
    "# Experiment 5\n",
    "\n",
    "Is the run time depending on the number of parsing instructions?"
   ]
  },
  {
   "cell_type": "code",
   "execution_count": 16,
   "metadata": {},
   "outputs": [],
   "source": [
    "def get_run_times_per_parsing_instruction_per_parser():\n",
    "    with MongoClient() as mongo:\n",
    "        db = mongo['master']\n",
    "        return db['metrics'].aggregate([\n",
    "            {\n",
    "                '$lookup': {\n",
    "                    'from': 'files', \n",
    "                    'let': {\n",
    "                        'fileId': {\n",
    "                            '$toObjectId': '$fileId'\n",
    "                        }\n",
    "                    }, \n",
    "                    'pipeline': [\n",
    "                        {\n",
    "                            '$match': {\n",
    "                                '$expr': {\n",
    "                                    '$eq': [\n",
    "                                        '$_id', '$$fileId'\n",
    "                                    ]\n",
    "                                }\n",
    "                            }\n",
    "                        }\n",
    "                    ], \n",
    "                    'as': 'file'\n",
    "                }\n",
    "            }, {\n",
    "                '$unwind': {\n",
    "                    'path': '$file'\n",
    "                }\n",
    "            }, {\n",
    "                '$match': {\n",
    "                    'file.parsing_instructions': {\n",
    "                        '$ne': None\n",
    "                    }\n",
    "                }\n",
    "            }, {\n",
    "                '$group': {\n",
    "                    '_id': {\n",
    "                        'fileId': '$fileId', \n",
    "                        'parsing_instructions': {\n",
    "                            '$sum': [\n",
    "                                '$file.parsing_instructions.character', '$file.parsing_instructions.layout'\n",
    "                            ]\n",
    "                        }\n",
    "                    }, \n",
    "                    'successCount': {\n",
    "                        '$sum': {\n",
    "                            '$cond': [\n",
    "                                {\n",
    "                                    '$eq': [\n",
    "                                        '$status', 'success'\n",
    "                                    ]\n",
    "                                }, 1, 0\n",
    "                            ]\n",
    "                        }\n",
    "                    }, \n",
    "                    'metrics': {\n",
    "                        '$push': {\n",
    "                            'parser': '$parser', \n",
    "                            'runTime': '$runTime'\n",
    "                        }\n",
    "                    }\n",
    "                }\n",
    "            }, {\n",
    "                '$match': {\n",
    "                    'successCount': 5\n",
    "                }\n",
    "            }\n",
    "        ])"
   ]
  },
  {
   "cell_type": "code",
   "execution_count": 17,
   "metadata": {},
   "outputs": [
    {
     "data": {
      "text/plain": [
       "Text(0.5, 0, 'run time in seconds')"
      ]
     },
     "execution_count": 17,
     "metadata": {},
     "output_type": "execute_result"
    },
    {
     "data": {
      "image/png": "[encoded data removed]",
      "text/plain": [
       "<Figure size 420.945x257.557 with 1 Axes>"
      ]
     },
     "metadata": {},
     "output_type": "display_data"
    }
   ],
   "source": [
    "df = DataFrame([\n",
    "    {\n",
    "        'parsing\\_instructions': run_times['_id']['parsing_instructions'],\n",
    "        **{\n",
    "            metric['parser']: metric['runTime']\n",
    "            for metric in run_times['metrics']\n",
    "        }\n",
    "    }\n",
    "    for run_times in get_run_times_per_parsing_instruction_per_parser()\n",
    "])\n",
    "ax1 = df.plot(kind='scatter', x='tableExtractor', label='tableExtractor', y='parsing\\_instructions', color=mpl.rcParams['axes.prop_cycle'].by_key()['color'][0])\n",
    "ax2 = df.plot(kind='scatter', x='hypoparsr', label='hypoparsr', y='parsing\\_instructions', ax=ax1, color=mpl.rcParams['axes.prop_cycle'].by_key()['color'][1])\n",
    "ax3 = df.plot(kind='scatter', x='cleverCSV', label='cleverCSV', y='parsing\\_instructions', ax=ax2, color=mpl.rcParams['axes.prop_cycle'].by_key()['color'][2])\n",
    "ax4 = df.plot(kind='scatter', x='sniffer', label='sniffer', y='parsing\\_instructions', ax=ax3, color=mpl.rcParams['axes.prop_cycle'].by_key()['color'][3])\n",
    "ax4.set_xlabel('run time in seconds')"
   ]
  },
  {
   "cell_type": "markdown",
   "metadata": {},
   "source": [
    "# Experiment 6\n",
    "\n",
    "Impact of different features."
   ]
  },
  {
   "cell_type": "code",
   "execution_count": 18,
   "metadata": {},
   "outputs": [],
   "source": [
    "def get_speedup(compare_to_collection):\n",
    "    with MongoClient() as mongo:\n",
    "        db = mongo['master']\n",
    "        return db['metrics'].aggregate([\n",
    "            {\n",
    "                '$match': {\n",
    "                    'parser': 'tableExtractor', \n",
    "                    'fileMetrics_incomplete': False, \n",
    "                    'status': 'success'\n",
    "                }\n",
    "            }, {\n",
    "                '$lookup': {\n",
    "                    'from': compare_to_collection, \n",
    "                    'let': {\n",
    "                        'fileId': '$fileId', \n",
    "                        'parser': '$parser'\n",
    "                    }, \n",
    "                    'pipeline': [\n",
    "                        {\n",
    "                            '$match': {\n",
    "                                '$expr': {\n",
    "                                    '$and': [\n",
    "                                        {\n",
    "                                            '$eq': [\n",
    "                                                '$fileId', '$$fileId'\n",
    "                                            ]\n",
    "                                        }, {\n",
    "                                            '$eq': [\n",
    "                                                '$parser', '$$parser'\n",
    "                                            ]\n",
    "                                        }\n",
    "                                    ]\n",
    "                                }\n",
    "                            }\n",
    "                        }\n",
    "                    ], \n",
    "                    'as': 'modified'\n",
    "                }\n",
    "            }, {\n",
    "                '$unwind': {\n",
    "                    'path': '$modified'\n",
    "                }\n",
    "            }, {\n",
    "                '$project': {\n",
    "                    'factor': {\n",
    "                        '$divide': [\n",
    "                            '$runTime', '$modified.runTime'\n",
    "                        ]\n",
    "                    }\n",
    "                }\n",
    "            }, {\n",
    "                '$group': {\n",
    "                    '_id': None, \n",
    "                    'avg': {\n",
    "                        '$avg': '$factor'\n",
    "                    }, \n",
    "                    'timedout': {\n",
    "                        '$sum': {\n",
    "                            '$cond': [\n",
    "                                {\n",
    "                                    '$eq': [\n",
    "                                        '$factor', None\n",
    "                                    ]\n",
    "                                }, 1, 0\n",
    "                            ]\n",
    "                        }\n",
    "                    }\n",
    "                }\n",
    "            }\n",
    "        ])"
   ]
  },
  {
   "cell_type": "code",
   "execution_count": 19,
   "metadata": {},
   "outputs": [
    {
     "data": {
      "text/plain": [
       "{'_id': None, 'avg': 1.281064088290102, 'timedout': 0}"
      ]
     },
     "execution_count": 19,
     "metadata": {},
     "output_type": "execute_result"
    }
   ],
   "source": [
    "next(get_speedup('metrics_ascii_disabled'))"
   ]
  },
  {
   "cell_type": "code",
   "execution_count": 20,
   "metadata": {},
   "outputs": [
    {
     "data": {
      "text/plain": [
       "{'_id': None, 'avg': 1.109383448113406, 'timedout': 1}"
      ]
     },
     "execution_count": 20,
     "metadata": {},
     "output_type": "execute_result"
    }
   ],
   "source": [
    "next(get_speedup('metrics_dt_disabled'))"
   ]
  },
  {
   "cell_type": "code",
   "execution_count": 21,
   "metadata": {},
   "outputs": [
    {
     "data": {
      "text/plain": [
       "{'_id': None, 'avg': 1.1052475728605742, 'timedout': 0}"
      ]
     },
     "execution_count": 21,
     "metadata": {},
     "output_type": "execute_result"
    }
   ],
   "source": [
    "next(get_speedup('metrics_heuristic_180'))"
   ]
  },
  {
   "cell_type": "code",
   "execution_count": 22,
   "metadata": {},
   "outputs": [
    {
     "data": {
      "text/plain": [
       "{'_id': None, 'avg': 1.6114896395502503, 'timedout': 0}"
      ]
     },
     "execution_count": 22,
     "metadata": {},
     "output_type": "execute_result"
    }
   ],
   "source": [
    "next(get_speedup('metrics_simple_180'))"
   ]
  },
  {
   "cell_type": "code",
   "execution_count": 23,
   "metadata": {},
   "outputs": [
    {
     "data": {
      "text/plain": [
       "{'_id': None, 'avg': 0.8235096441411777, 'timedout': 131}"
      ]
     },
     "execution_count": 23,
     "metadata": {},
     "output_type": "execute_result"
    }
   ],
   "source": [
    "next(get_speedup('metrics_flexible_180'))"
   ]
  },
  {
   "cell_type": "markdown",
   "metadata": {},
   "source": [
    "# Showcase 1"
   ]
  },
  {
   "cell_type": "markdown",
   "metadata": {},
   "source": [
    "Is there a file that no parser finished?\n",
    "\n",
    "Yes, there is one with id 5fa1dcfc6fea3636867e1df2. The file consists of 450 lines, each having 17365 characters.\n",
    "CleverCSV, Pytheas and tableExtractor time out, sniffer and hypoparsr return exit code != 0\n",
    "\n",
    "```\n",
    "db.getCollection(\"metrics\").aggregate([\n",
    "    {\n",
    "        '$match': {\n",
    "            'parser': {'$nin': ['rfc4180']}\n",
    "        }\n",
    "    },{\n",
    "        '$group': {\n",
    "            '_id': '$fileId',\n",
    "            'successCount': {\n",
    "                '$sum': {\n",
    "                    '$cond': [\n",
    "                        {'$eq': ['$status', 'success']},\n",
    "                        1,\n",
    "                        0\n",
    "                    ]\n",
    "                }    \n",
    "            }\n",
    "        }\n",
    "    },{\n",
    "        '$match': {'successCount': 0}    \n",
    "    },\n",
    "])\n",
    "```"
   ]
  }
 ],
 "metadata": {
  "kernelspec": {
   "display_name": "Python 3",
   "language": "python",
   "name": "python3"
  },
  "language_info": {
   "codemirror_mode": {
    "name": "ipython",
    "version": 3
   },
   "file_extension": ".py",
   "mimetype": "text/x-python",
   "name": "python",
   "nbconvert_exporter": "python",
   "pygments_lexer": "ipython3",
   "version": "3.8.5"
  }
 },
 "nbformat": 4,
 "nbformat_minor": 4
}
