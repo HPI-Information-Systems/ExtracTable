{
 "cells": [
  {
   "cell_type": "code",
   "execution_count": 267,
   "metadata": {},
   "outputs": [],
   "source": [
    "from pymongo import MongoClient\n",
    "from collections import Counter\n",
    "from pandas import DataFrame\n",
    "from statistics import mean\n",
    "import matplotlib.ticker as mtick"
   ]
  },
  {
   "cell_type": "markdown",
   "metadata": {},
   "source": [
    "# Experiment 1\n",
    "\n",
    "Binary classification metrics on line-level. Separate files by file type."
   ]
  },
  {
   "cell_type": "code",
   "execution_count": 268,
   "metadata": {},
   "outputs": [],
   "source": [
    "def get_confusion_counts_by_file_type_pytheas(file_type):\n",
    "    with MongoClient() as mongo:\n",
    "        db = mongo['master']\n",
    "        return Counter([*db['files'].aggregate([\n",
    "            {\n",
    "                '$match': {\n",
    "                    'incomplete': {\n",
    "                        '$exists': False\n",
    "                    }\n",
    "                }\n",
    "            }, {\n",
    "                '$lookup': {\n",
    "                    'from': 'metrics', \n",
    "                    'let': {\n",
    "                        'fileId': {\n",
    "                            '$toString': '$_id'\n",
    "                        }\n",
    "                    }, \n",
    "                    'pipeline': [\n",
    "                        {\n",
    "                            '$match': {\n",
    "                                '$expr': {\n",
    "                                    '$eq': [\n",
    "                                        '$fileId', '$$fileId'\n",
    "                                    ]\n",
    "                                }, \n",
    "                                'parser': 'rfc4180'\n",
    "                            }\n",
    "                        }\n",
    "                    ], \n",
    "                    'as': 'metrics'\n",
    "                }\n",
    "            }, {\n",
    "                '$unwind': {\n",
    "                    'path': '$metrics'\n",
    "                }\n",
    "            }, {\n",
    "                '$match': {\n",
    "                    'metrics.fileMetrics_fileType': file_type\n",
    "                }\n",
    "            }, {\n",
    "                '$lookup': {\n",
    "                    'from': 'pytheas', \n",
    "                    'let': {\n",
    "                        'fileId': {\n",
    "                            '$toString': '$_id'\n",
    "                        }\n",
    "                    }, \n",
    "                    'pipeline': [\n",
    "                        {\n",
    "                            '$match': {\n",
    "                                '$expr': {\n",
    "                                    '$eq': [\n",
    "                                        '$fileId', '$$fileId'\n",
    "                                    ]\n",
    "                                }\n",
    "                            }\n",
    "                        }\n",
    "                    ], \n",
    "                    'as': 'pytheas'\n",
    "                }\n",
    "            }, {\n",
    "                '$unwind': {\n",
    "                    'path': '$pytheas'\n",
    "                }\n",
    "            }, {\n",
    "                '$match': {\n",
    "                    'pytheas.status': 'success'\n",
    "                }\n",
    "            }, {\n",
    "                '$group': {\n",
    "                    '_id': None, \n",
    "                    'false, false': {\n",
    "                        '$sum': '$pytheas.metrics_(False, False)'\n",
    "                    }, \n",
    "                    'false, true': {\n",
    "                        '$sum': '$pytheas.metrics_(False, True)'\n",
    "                    }, \n",
    "                    'true, false': {\n",
    "                        '$sum': '$pytheas.metrics_(True, False)'\n",
    "                    }, \n",
    "                    'true, true': {\n",
    "                        '$sum': '$pytheas.metrics_(True, True)'\n",
    "                    }\n",
    "                }\n",
    "            }\n",
    "        ])][0])"
   ]
  },
  {
   "cell_type": "code",
   "execution_count": 269,
   "metadata": {},
   "outputs": [],
   "source": [
    "def get_confusion_counts_by_file_type_tableExtractor(file_type):\n",
    "    with MongoClient() as mongo:\n",
    "        db = mongo['master']\n",
    "        return Counter([*db['metrics'].aggregate([\n",
    "            {\n",
    "                '$match': {\n",
    "                    'parser': 'tableExtractor',\n",
    "                    'fileMetrics_fileType': file_type,\n",
    "                    'fileMetrics_incomplete': False,\n",
    "                    'status': 'success'\n",
    "                }\n",
    "            },{\n",
    "                '$group': {\n",
    "                    '_id': None,\n",
    "                    'false, false': {'$sum': '$lineMetrics_confusion_(False, False)'},\n",
    "                    'false, true': {'$sum': '$lineMetrics_confusion_(False, True)'},\n",
    "                    'true, false': {'$sum': '$lineMetrics_confusion_(True, False)'},\n",
    "                    'true, true': {'$sum': '$lineMetrics_confusion_(True, True)'}\n",
    "                }\n",
    "            }\n",
    "        ])][0])"
   ]
  },
  {
   "cell_type": "code",
   "execution_count": 286,
   "metadata": {},
   "outputs": [],
   "source": [
    "def compute_classification_metrics(confusion_counts):\n",
    "    precision = confusion_counts['true, true'] / (confusion_counts['true, true'] + confusion_counts['true, false'])\n",
    "    recall = confusion_counts['true, true'] / (confusion_counts['true, true'] + confusion_counts['false, true'])\n",
    "    print((confusion_counts['true, true'] / (confusion_counts['true, true'] + confusion_counts['false, true'])))\n",
    "    print((confusion_counts['false, false'] / (confusion_counts['false, false'] + confusion_counts['true, false'])))\n",
    "    return {\n",
    "        'accuracy': round((confusion_counts['true, true'] + confusion_counts['false, false']) / (confusion_counts['false, false'] + confusion_counts['false, true'] + confusion_counts['true, false'] + confusion_counts['true, true']), 3),\n",
    "        'precision': round(precision, 3),\n",
    "        'recall': round(recall, 3),\n",
    "        'f1': round((2 * precision * recall) / (precision + recall), 3),\n",
    "        'balancedAcc': round(((confusion_counts['true, true'] / (confusion_counts['true, true'] + confusion_counts['false, true'])) + (confusion_counts['false, false'] / (confusion_counts['false, false'] + confusion_counts['true, false']))) / 2, 3)\n",
    "    }"
   ]
  },
  {
   "cell_type": "code",
   "execution_count": 287,
   "metadata": {},
   "outputs": [
    {
     "name": "stdout",
     "output_type": "stream",
     "text": [
      "0.9971813725490196\n",
      "0.594920634920635\n"
     ]
    },
    {
     "data": {
      "text/plain": [
       "{'accuracy': 0.951,\n",
       " 'precision': 0.95,\n",
       " 'recall': 0.997,\n",
       " 'f1': 0.973,\n",
       " 'balancedAcc': 0.796}"
      ]
     },
     "execution_count": 287,
     "metadata": {},
     "output_type": "execute_result"
    }
   ],
   "source": [
    "compute_classification_metrics(complex_multi_confusion_counts)"
   ]
  },
  {
   "cell_type": "code",
   "execution_count": 271,
   "metadata": {},
   "outputs": [],
   "source": [
    "def compute_all_true_metrics(confusion_counts):\n",
    "    return compute_classification_metrics(Counter({\n",
    "        'true, true': confusion_counts['true, true'] + confusion_counts['false, true'],\n",
    "        'true, false': confusion_counts['true, false'] + confusion_counts['false, false']\n",
    "    }))"
   ]
  },
  {
   "cell_type": "code",
   "execution_count": 289,
   "metadata": {
    "scrolled": false
   },
   "outputs": [
    {
     "name": "stdout",
     "output_type": "stream",
     "text": [
      "0.9985757208872914\n",
      "1.0\n",
      "1.0\n",
      "0.8886198547215496\n",
      "1.0\n",
      "0.0\n",
      "0.997319465177124\n",
      "0.9769507533168428\n",
      "0.9898071151888526\n",
      "0.8279048665170257\n",
      "1.0\n",
      "0.0\n",
      "0.9971813725490196\n",
      "0.594920634920635\n",
      "0.9409054715049482\n",
      "0.33302857142857145\n",
      "1.0\n",
      "0.0\n"
     ]
    },
    {
     "data": {
      "text/html": [
       "<div>\n",
       "<style scoped>\n",
       "    .dataframe tbody tr th:only-of-type {\n",
       "        vertical-align: middle;\n",
       "    }\n",
       "\n",
       "    .dataframe tbody tr th {\n",
       "        vertical-align: top;\n",
       "    }\n",
       "\n",
       "    .dataframe thead th {\n",
       "        text-align: right;\n",
       "    }\n",
       "</style>\n",
       "<table border=\"1\" class=\"dataframe\">\n",
       "  <thead>\n",
       "    <tr style=\"text-align: right;\">\n",
       "      <th></th>\n",
       "      <th>fileType</th>\n",
       "      <th>subject</th>\n",
       "      <th>accuracy</th>\n",
       "      <th>precision</th>\n",
       "      <th>recall</th>\n",
       "      <th>f1</th>\n",
       "      <th>balancedAcc</th>\n",
       "    </tr>\n",
       "  </thead>\n",
       "  <tbody>\n",
       "    <tr>\n",
       "      <th>0</th>\n",
       "      <td>simple</td>\n",
       "      <td>tableExtractor</td>\n",
       "      <td>0.999</td>\n",
       "      <td>1.000</td>\n",
       "      <td>0.999</td>\n",
       "      <td>0.999</td>\n",
       "      <td>0.999</td>\n",
       "    </tr>\n",
       "    <tr>\n",
       "      <th>1</th>\n",
       "      <td>simple</td>\n",
       "      <td>pytheas</td>\n",
       "      <td>0.999</td>\n",
       "      <td>0.999</td>\n",
       "      <td>1.000</td>\n",
       "      <td>1.000</td>\n",
       "      <td>0.944</td>\n",
       "    </tr>\n",
       "    <tr>\n",
       "      <th>2</th>\n",
       "      <td>simple</td>\n",
       "      <td>allTable</td>\n",
       "      <td>0.999</td>\n",
       "      <td>0.999</td>\n",
       "      <td>1.000</td>\n",
       "      <td>0.999</td>\n",
       "      <td>0.500</td>\n",
       "    </tr>\n",
       "    <tr>\n",
       "      <th>3</th>\n",
       "      <td>complex-single</td>\n",
       "      <td>tableExtractor</td>\n",
       "      <td>0.995</td>\n",
       "      <td>0.997</td>\n",
       "      <td>0.997</td>\n",
       "      <td>0.997</td>\n",
       "      <td>0.987</td>\n",
       "    </tr>\n",
       "    <tr>\n",
       "      <th>4</th>\n",
       "      <td>complex-single</td>\n",
       "      <td>pytheas</td>\n",
       "      <td>0.932</td>\n",
       "      <td>0.912</td>\n",
       "      <td>0.990</td>\n",
       "      <td>0.949</td>\n",
       "      <td>0.909</td>\n",
       "    </tr>\n",
       "    <tr>\n",
       "      <th>5</th>\n",
       "      <td>complex-single</td>\n",
       "      <td>allTable</td>\n",
       "      <td>0.897</td>\n",
       "      <td>0.897</td>\n",
       "      <td>1.000</td>\n",
       "      <td>0.946</td>\n",
       "      <td>0.500</td>\n",
       "    </tr>\n",
       "    <tr>\n",
       "      <th>6</th>\n",
       "      <td>complex-multi</td>\n",
       "      <td>tableExtractor</td>\n",
       "      <td>0.951</td>\n",
       "      <td>0.950</td>\n",
       "      <td>0.997</td>\n",
       "      <td>0.973</td>\n",
       "      <td>0.796</td>\n",
       "    </tr>\n",
       "    <tr>\n",
       "      <th>7</th>\n",
       "      <td>complex-multi</td>\n",
       "      <td>pytheas</td>\n",
       "      <td>0.739</td>\n",
       "      <td>0.739</td>\n",
       "      <td>0.941</td>\n",
       "      <td>0.828</td>\n",
       "      <td>0.637</td>\n",
       "    </tr>\n",
       "    <tr>\n",
       "      <th>8</th>\n",
       "      <td>complex-multi</td>\n",
       "      <td>allTable</td>\n",
       "      <td>0.886</td>\n",
       "      <td>0.886</td>\n",
       "      <td>1.000</td>\n",
       "      <td>0.940</td>\n",
       "      <td>0.500</td>\n",
       "    </tr>\n",
       "  </tbody>\n",
       "</table>\n",
       "</div>"
      ],
      "text/plain": [
       "         fileType         subject  accuracy  precision  recall     f1  \\\n",
       "0          simple  tableExtractor     0.999      1.000   0.999  0.999   \n",
       "1          simple         pytheas     0.999      0.999   1.000  1.000   \n",
       "2          simple        allTable     0.999      0.999   1.000  0.999   \n",
       "3  complex-single  tableExtractor     0.995      0.997   0.997  0.997   \n",
       "4  complex-single         pytheas     0.932      0.912   0.990  0.949   \n",
       "5  complex-single        allTable     0.897      0.897   1.000  0.946   \n",
       "6   complex-multi  tableExtractor     0.951      0.950   0.997  0.973   \n",
       "7   complex-multi         pytheas     0.739      0.739   0.941  0.828   \n",
       "8   complex-multi        allTable     0.886      0.886   1.000  0.940   \n",
       "\n",
       "   balancedAcc  \n",
       "0        0.999  \n",
       "1        0.944  \n",
       "2        0.500  \n",
       "3        0.987  \n",
       "4        0.909  \n",
       "5        0.500  \n",
       "6        0.796  \n",
       "7        0.637  \n",
       "8        0.500  "
      ]
     },
     "execution_count": 289,
     "metadata": {},
     "output_type": "execute_result"
    }
   ],
   "source": [
    "simple_confusion_counts = get_confusion_counts_by_file_type_tableExtractor('simple')\n",
    "complex_single_confusion_counts = get_confusion_counts_by_file_type_tableExtractor('complex_single')\n",
    "complex_multi_confusion_counts = get_confusion_counts_by_file_type_tableExtractor('complex_multi')\n",
    "DataFrame([\n",
    "    {'fileType': 'simple', 'subject': 'tableExtractor', **compute_classification_metrics(simple_confusion_counts)},\n",
    "    {'fileType': 'simple', 'subject': 'pytheas', **compute_classification_metrics(get_confusion_counts_by_file_type_pytheas('simple'))},\n",
    "    {'fileType': 'simple', 'subject': 'allTable', **compute_all_true_metrics(simple_confusion_counts)},\n",
    "    {'fileType': 'complex-single', 'subject': 'tableExtractor', **compute_classification_metrics(complex_single_confusion_counts)},\n",
    "    {'fileType': 'complex-single', 'subject': 'pytheas', **compute_classification_metrics(get_confusion_counts_by_file_type_pytheas('complex_single'))},\n",
    "    {'fileType': 'complex-single', 'subject': 'allTable', **compute_all_true_metrics(complex_single_confusion_counts)},\n",
    "    {'fileType': 'complex-multi', 'subject': 'tableExtractor', **compute_classification_metrics(complex_multi_confusion_counts)},\n",
    "    {'fileType': 'complex-multi', 'subject': 'pytheas', **compute_classification_metrics(get_confusion_counts_by_file_type_pytheas('complex_multi'))},\n",
    "    {'fileType': 'complex-multi', 'subject': 'allTable', **compute_all_true_metrics(complex_multi_confusion_counts)}\n",
    "])"
   ]
  },
  {
   "cell_type": "markdown",
   "metadata": {},
   "source": [
    "*Note* 'alltable' refers to all other solutions, as each of them only returns one dialect and we assume they return a single table that cover all lines.\n",
    "\n",
    "*Note 2* Some algorithms actually do make some selection, which lines are part of a table and which ones are not (while still returning only a single table per file). However, they don't make this information directly accessible, they only offer a solution to return the extracted table right away. There is no way of getting the range indexes without applying some line matching, which is error-prone.\n",
    "\n",
    "*Note 3*\n",
    "Most lines are data lines, which is especially true for single tables files. That's why we introduced balanced accuracy which will be lower if one of the classes table-line/ non-table-line are not performing well. In complex-multi files 5.5\\% of the lines are not table lines. On one-hand side that even such files contain a lot of valuable information. On the other hand side it becomes harder to optimize algorithm to separate between the two classes. Balanced accuracy of tableExtractor 0.783 is 0.998 table and 0.567 not-table. Meaning, we rarely loose data, but we often interpret non-table lines as table. This could be because of table-like structures with such files that are no actual data tables.\n",
    "\n",
    "Of course pytheas is not optimized for ascii tables. but we expected that it would capture them as they do not look like text."
   ]
  },
  {
   "cell_type": "markdown",
   "metadata": {},
   "source": [
    "# Experiment 2\n",
    "\n",
    "How many tables have been classified correctly to X percent?"
   ]
  },
  {
   "cell_type": "code",
   "execution_count": 22,
   "metadata": {},
   "outputs": [],
   "source": [
    "def get_table_coverages_of_table_extractor(success_only):\n",
    "    with MongoClient() as mongo:\n",
    "        db = mongo['master']\n",
    "        return db['metrics'].aggregate([\n",
    "            {\n",
    "                '$match': {\n",
    "                    'parser': 'tableExtractor', \n",
    "                    'fileMetrics_incomplete': False, \n",
    "                    **({'status': 'success'} if success_only else {})\n",
    "                }\n",
    "            }, {\n",
    "                '$unwind': {\n",
    "                    'path': '$tableMetrics_tables'\n",
    "                }\n",
    "            }, {\n",
    "                '$addFields': {\n",
    "                    'coverage': {\n",
    "                        '$divide': [\n",
    "                            '$tableMetrics_tables.confusion.(True, True)', '$tableMetrics_tables.rowCount'\n",
    "                        ]\n",
    "                    }\n",
    "                }\n",
    "            }, {\n",
    "                '$project': {\n",
    "                    'coverage': True,\n",
    "                    'fileId': True,\n",
    "                    '_id': False\n",
    "                }\n",
    "            }\n",
    "        ])"
   ]
  },
  {
   "cell_type": "code",
   "execution_count": 23,
   "metadata": {},
   "outputs": [],
   "source": [
    "def get_table_coverages_of_pytheas(success_only):\n",
    "    with MongoClient() as mongo:\n",
    "        db = mongo['master']\n",
    "        return db['pytheas'].aggregate([\n",
    "            {\n",
    "                '$match': {\n",
    "                    'incomplete': False, \n",
    "                    **({'status': 'success'} if success_only else {})\n",
    "                }\n",
    "            }, {\n",
    "                '$unwind': {\n",
    "                    'path': '$metrics_tables'\n",
    "                }\n",
    "            }, {\n",
    "                '$project': {\n",
    "                    'coverage': '$metrics_tables.coverage',\n",
    "                    'fileId': True,\n",
    "                    '_id': False\n",
    "                }\n",
    "            }\n",
    "        ])"
   ]
  },
  {
   "cell_type": "code",
   "execution_count": 35,
   "metadata": {},
   "outputs": [
    {
     "data": {
      "image/png": "[encoded data removed]",
      "text/plain": [
       "<Figure size 420.945x257.557 with 1 Axes>"
      ]
     },
     "metadata": {},
     "output_type": "display_data"
    }
   ],
   "source": [
    "table_coverages_table_extractor_all = [*get_table_coverages_of_table_extractor(False)]\n",
    "table_coverages_pytheas_all = [*get_table_coverages_of_pytheas(False)]\n",
    "\n",
    "df = DataFrame([\n",
    "    {\n",
    "        'coverage': coverage_level,\n",
    "        'Naive': 1,\n",
    "        'Pytheas': mean((coverage['coverage'] or 0) >= coverage_level for coverage in table_coverages_pytheas_all),\n",
    "        'ExtracTable': mean((coverage['coverage'] or 0) >= coverage_level for coverage in table_coverages_table_extractor_all),\n",
    "    }\n",
    "    for coverage_level in (round(v * 0.01, 2) for v in range(100, 0, -1))\n",
    "])\n",
    "\n",
    "ax = df.plot(\n",
    "    kind='line',\n",
    "    x='coverage',\n",
    "#     stacked=False,\n",
    "    color=['#595959', '#595959', '#4A86E8'],\n",
    "    style=['--', '', '']\n",
    ")\n",
    "ax.set(\n",
    "    xlabel='Annotated table line coverage', \n",
    "    ylabel='\\% of tables',\n",
    "    ylim=(0, 1.0),\n",
    "    xlim=(0, 1.0)\n",
    ")\n",
    "ax.get_xaxis().set_major_formatter(mtick.PercentFormatter(xmax=1.0))\n",
    "ax.get_yaxis().set_major_formatter(mtick.PercentFormatter(xmax=1.0))\n",
    "ax.legend(loc='lower center', bbox_to_anchor=(0, 0.98, 0.98, 0), ncol=3)\n",
    "plt.tight_layout()\n",
    "ax.get_figure().savefig('table-coverage')"
   ]
  },
  {
   "cell_type": "code",
   "execution_count": 285,
   "metadata": {},
   "outputs": [
    {
     "data": {
      "text/plain": [
       "0.7922185430463576"
      ]
     },
     "execution_count": 285,
     "metadata": {},
     "output_type": "execute_result"
    }
   ],
   "source": [
    "mean((coverage['coverage'] or 0) >= 1 for coverage in table_coverages_table_extractor_all)"
   ]
  },
  {
   "cell_type": "markdown",
   "metadata": {},
   "source": [
    "- total number of tables: 1119\n",
    "- 567 simple files\n",
    "- 245 complex_simple files\n",
    "- 61 complex_multi files"
   ]
  },
  {
   "cell_type": "markdown",
   "metadata": {},
   "source": [
    "# Experiment 3\n",
    "\n",
    "If a line was not detected as table line (False Negative) what row types does this line have? How does the ratio look like compared to the row type count in the GT?"
   ]
  },
  {
   "cell_type": "code",
   "execution_count": 276,
   "metadata": {},
   "outputs": [],
   "source": [
    "def get_row_type_totals():\n",
    "    with MongoClient() as mongo:\n",
    "        db = mongo['master']\n",
    "        return db['lines'].aggregate([\n",
    "            {\n",
    "                '$lookup': {\n",
    "                    'from': 'metrics', \n",
    "                    'let': {\n",
    "                        'fileId': '$fileId'\n",
    "                    }, \n",
    "                    'pipeline': [\n",
    "                        {\n",
    "                            '$match': {\n",
    "                                '$expr': {\n",
    "                                    '$eq': [\n",
    "                                        '$fileId', '$$fileId'\n",
    "                                    ]\n",
    "                                }, \n",
    "                                'parser': 'tableExtractor', \n",
    "                                'status': 'success', \n",
    "                                'fileMetrics_incomplete': False\n",
    "                            }\n",
    "                        }\n",
    "                    ], \n",
    "                    'as': 'metric'\n",
    "                }\n",
    "            }, {\n",
    "                '$unwind': {\n",
    "                    'path': '$metric'\n",
    "                }\n",
    "            }, {\n",
    "                '$match': {\n",
    "                    'metric': {\n",
    "                        '$exists': True\n",
    "                    }\n",
    "                }\n",
    "            }, {\n",
    "                '$group': {\n",
    "                    '_id': '$rowType', \n",
    "                    'count': {\n",
    "                        '$sum': 1\n",
    "                    }\n",
    "                }\n",
    "            }\n",
    "        ])"
   ]
  },
  {
   "cell_type": "code",
   "execution_count": 277,
   "metadata": {},
   "outputs": [],
   "source": [
    "def get_missing_row_types():\n",
    "    with MongoClient() as mongo:\n",
    "        db = mongo['master']\n",
    "        return db['metrics'].aggregate([\n",
    "            {\n",
    "                '$match': {\n",
    "                    'fileMetrics_incomplete': False, \n",
    "                    'status': 'success', \n",
    "                    'parser': 'tableExtractor'\n",
    "                }\n",
    "            }, {\n",
    "                '$group': {\n",
    "                    '_id': None, \n",
    "                    'data': {\n",
    "                        '$sum': '$lineMetrics_missingTypes_data'\n",
    "                    }, \n",
    "                    'header': {\n",
    "                        '$sum': '$lineMetrics_missingTypes_header'\n",
    "                    }, \n",
    "                    'other': {\n",
    "                        '$sum': '$lineMetrics_missingTypes_other'\n",
    "                    }\n",
    "                }\n",
    "            }, {\n",
    "                '$project': {\n",
    "                    '_id': False,\n",
    "                    'data': True,\n",
    "                    'header': True,\n",
    "                    'other': True\n",
    "                }\n",
    "            }\n",
    "        ])"
   ]
  },
  {
   "cell_type": "markdown",
   "metadata": {},
   "source": [
    "row_type_totals\n",
    "```\n",
    "[{'_id': 'data', 'count': 924701},\n",
    " {'_id': 'header', 'count': 785},\n",
    " {'_id': None, 'count': 40393},\n",
    " {'_id': 'other', 'count': 237}]\n",
    " ```"
   ]
  },
  {
   "cell_type": "code",
   "execution_count": 278,
   "metadata": {},
   "outputs": [],
   "source": [
    "row_type_totals = [*get_row_type_totals()]  # slow!\n",
    "line_count = sum(row_type_total['count'] for row_type_total in row_type_totals)\n",
    "row_type_total_shares = {\n",
    "    row_type_total['_id']: row_type_total['count'] / line_count\n",
    "    for row_type_total in row_type_totals\n",
    "}"
   ]
  },
  {
   "cell_type": "markdown",
   "metadata": {},
   "source": [
    "missing_row_types\n",
    "```\n",
    "{'data': 1821, 'header': 75, 'other': 53}\n",
    "```"
   ]
  },
  {
   "cell_type": "code",
   "execution_count": 279,
   "metadata": {},
   "outputs": [],
   "source": [
    "# missing_row_types = [*get_missing_row_types()][0]\n",
    "# line_count = sum(missing_row_types.values())\n",
    "missing_row_type_shares = {\n",
    "    row_type: count / line_count\n",
    "    for row_type, count in missing_row_types.items()\n",
    "}"
   ]
  },
  {
   "cell_type": "code",
   "execution_count": 280,
   "metadata": {},
   "outputs": [
    {
     "data": {
      "image/png": "[encoded data removed]",
      "text/plain": [
       "<Figure size 420.945x257.557 with 1 Axes>"
      ]
     },
     "metadata": {},
     "output_type": "display_data"
    }
   ],
   "source": [
    "df = DataFrame(\n",
    "    [\n",
    "        {\n",
    "            'type': row_type.capitalize(),\n",
    "            'Detected': (row_type_total_shares.get(row_type, 0) - missing_row_type_shares.get(row_type, 0)) / row_type_total_shares.get(row_type, 0)\n",
    "        }\n",
    "        for row_type in ['header', 'data', 'other']\n",
    "    ], \n",
    ")\n",
    "\n",
    "ax = df.plot(\n",
    "    kind='bar',\n",
    "    x='type',\n",
    "    color=['#595959'],\n",
    "    edgecolor='#1B1B1B',\n",
    "    rot=0,\n",
    "    legend=False\n",
    ")\n",
    "ax.set(\n",
    "    xlabel='Row type', \n",
    "    ylabel='Detected rows',\n",
    "    ylim=(0,1)\n",
    ")\n",
    "ax.get_yaxis().set_major_formatter(mtick.PercentFormatter(xmax=1.0))\n",
    "\n",
    "for p in ax.patches:\n",
    "    ax.annotate(\n",
    "        round(p.get_height() * 100, 1),\n",
    "        (p.get_x() + p.get_width() / 2., p.get_height()),\n",
    "        ha='center',                              \n",
    "        va='center',                              \n",
    "        xytext=(0, 5),                               \n",
    "        textcoords='offset points',\n",
    "        fontsize=10\n",
    "    )\n",
    "plt.tight_layout()\n",
    "ax.get_figure().savefig('missing-line-types')"
   ]
  },
  {
   "cell_type": "markdown",
   "metadata": {},
   "source": [
    "# Experiment 4\n",
    "\n",
    "How many files have table classification accuracy > X percent? Serparate datasets per file type."
   ]
  },
  {
   "cell_type": "code",
   "execution_count": 19,
   "metadata": {},
   "outputs": [],
   "source": [
    "def get_confusion_counts_per_file_type():\n",
    "    with MongoClient() as mongo:\n",
    "        db = mongo['master']\n",
    "        return db['metrics'].aggregate([\n",
    "            {\n",
    "                '$match': {\n",
    "                    'parser': 'tableExtractor', \n",
    "                    'fileMetrics_incomplete': False, \n",
    "                    'status': 'success'\n",
    "                }\n",
    "            }, {\n",
    "                '$group': {\n",
    "                    '_id': '$fileMetrics_fileType', \n",
    "                    'confusion': {\n",
    "                        '$push': {\n",
    "                            'false, false': '$lineMetrics_confusion_(False, False)', \n",
    "                            'false, true': '$lineMetrics_confusion_(False, True)', \n",
    "                            'true, false': '$lineMetrics_confusion_(True, False)', \n",
    "                            'true, true': '$lineMetrics_confusion_(True, True)'\n",
    "                        }\n",
    "                    }\n",
    "                }\n",
    "            }\n",
    "        ])"
   ]
  },
  {
   "cell_type": "code",
   "execution_count": 20,
   "metadata": {},
   "outputs": [],
   "source": [
    "# https://stackoverflow.com/questions/16259923/how-can-i-escape-latex-special-characters-inside-django-templates\n",
    "import re\n",
    "\n",
    "def tex_escape(text):\n",
    "    \"\"\"\n",
    "        :param text: a plain text message\n",
    "        :return: the message escaped to appear correctly in LaTeX\n",
    "    \"\"\"\n",
    "    conv = {\n",
    "        '&': r'\\&',\n",
    "        '%': r'\\%',\n",
    "        '$': r'\\$',\n",
    "        '#': r'\\#',\n",
    "        '_': r'\\_',\n",
    "        '{': r'\\{',\n",
    "        '}': r'\\}',\n",
    "        '~': r'\\textasciitilde{}',\n",
    "        '^': r'\\^{}',\n",
    "        '\\\\': r'\\textbackslash{}',\n",
    "        '<': r'\\textless{}',\n",
    "        '>': r'\\textgreater{}',\n",
    "    }\n",
    "    regex = re.compile('|'.join(re.escape(str(key)) for key in sorted(conv.keys(), key = lambda item: - len(item))))\n",
    "    return regex.sub(lambda match: conv[match.group()], text)"
   ]
  },
  {
   "cell_type": "code",
   "execution_count": 21,
   "metadata": {
    "scrolled": false
   },
   "outputs": [
    {
     "data": {
      "text/plain": [
       "Text(0, 0.5, 'percentage of files')"
      ]
     },
     "execution_count": 21,
     "metadata": {},
     "output_type": "execute_result"
    },
    {
     "data": {
      "image/png": "[encoded data removed]",
      "text/plain": [
       "<Figure size 420.945x257.557 with 1 Axes>"
      ]
     },
     "metadata": {},
     "output_type": "display_data"
    }
   ],
   "source": [
    "def get_accuracy_from_confusion(confusion):\n",
    "    return (confusion.get('true, true', 0) + confusion.get('false, false', 0)) / (confusion.get('false, false', 0) + confusion.get('false, true', 0) + confusion.get('true, false', 0) + confusion.get('true, true', 0)) \n",
    "\n",
    "accuracies_per_type = [\n",
    "    {\n",
    "        'fileType': confusions_per_file_type['_id'],\n",
    "        'accuracies': [get_accuracy_from_confusion(confusion) for confusion in confusions_per_file_type['confusion']]\n",
    "    }\n",
    "    for confusions_per_file_type in get_confusion_counts_per_file_type()\n",
    "]\n",
    "\n",
    "axis = DataFrame([\n",
    "    {\n",
    "        'percentage': percentage,\n",
    "        **{\n",
    "            tex_escape(accuracies['fileType']): mean(accuracy >= percentage for accuracy in accuracies['accuracies'])\n",
    "            for accuracies in accuracies_per_type\n",
    "        }\n",
    "    }\n",
    "    for percentage in (round(v * 0.01, 2) for v in range(100, -1, -1))\n",
    "]).plot(x='percentage')\n",
    "axis.set_xlabel('accuracy in \\%')\n",
    "axis.set_ylabel('percentage of files')"
   ]
  },
  {
   "cell_type": "code",
   "execution_count": null,
   "metadata": {},
   "outputs": [],
   "source": []
  }
 ],
 "metadata": {
  "kernelspec": {
   "display_name": "Python 3",
   "language": "python",
   "name": "python3"
  },
  "language_info": {
   "codemirror_mode": {
    "name": "ipython",
    "version": 3
   },
   "file_extension": ".py",
   "mimetype": "text/x-python",
   "name": "python",
   "nbconvert_exporter": "python",
   "pygments_lexer": "ipython3",
   "version": "3.8.5"
  }
 },
 "nbformat": 4,
 "nbformat_minor": 5
}
