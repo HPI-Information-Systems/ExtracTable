{
 "cells": [
  {
   "cell_type": "code",
   "execution_count": 16,
   "metadata": {},
   "outputs": [],
   "source": [
    "from pymongo import MongoClient\n",
    "import pandas as pd\n",
    "from collections import Counter"
   ]
  },
  {
   "cell_type": "markdown",
   "metadata": {},
   "source": [
    "# Experiment 1"
   ]
  },
  {
   "cell_type": "code",
   "execution_count": 17,
   "metadata": {},
   "outputs": [],
   "source": [
    "def get_statuses_per_parser():\n",
    "    with MongoClient() as mongo:\n",
    "        db = mongo['master']\n",
    "        return db['metrics'].aggregate([\n",
    "            {\n",
    "                '$group': {\n",
    "                    '_id': '$parser',\n",
    "                    'statuses': {\n",
    "                        '$push': '$status'\n",
    "                    }\n",
    "                }\n",
    "            }\n",
    "        ])"
   ]
  },
  {
   "cell_type": "code",
   "execution_count": 18,
   "metadata": {},
   "outputs": [
    {
     "data": {
      "text/plain": [
       "Text(0, 0.5, 'number of files')"
      ]
     },
     "execution_count": 18,
     "metadata": {},
     "output_type": "execute_result"
    },
    {
     "data": {
      "image/png": "[encoded data removed]",
      "text/plain": [
       "<Figure size 420.945x257.557 with 1 Axes>"
      ]
     },
     "metadata": {},
     "output_type": "display_data"
    }
   ],
   "source": [
    "axis = pd.DataFrame([\n",
    "    {\n",
    "        'parser': statuses_per_parser['_id'],\n",
    "        **dict(sum((Counter({('no result' if status == 'error' else status): 1}) for status in statuses_per_parser['statuses']), Counter()))\n",
    "    }\n",
    "    for statuses_per_parser in get_statuses_per_parser()\n",
    "]).sort_values(by=['success'], ascending=[False]).plot(kind='bar', x='parser')\n",
    "axis.set_ylabel('number of files')"
   ]
  },
  {
   "cell_type": "markdown",
   "metadata": {},
   "source": [
    "Note: Split bars by file type (simple, complex_single, complex_multi)"
   ]
  },
  {
   "cell_type": "markdown",
   "metadata": {},
   "source": [
    "# Experiment 2 - not meaningful"
   ]
  },
  {
   "cell_type": "code",
   "execution_count": 19,
   "metadata": {},
   "outputs": [],
   "source": [
    "def get_success_count_metrics():\n",
    "    with MongoClient() as mongo:\n",
    "        db = mongo['master']\n",
    "        return db['metrics'].aggregate([\n",
    "            {\n",
    "                '$group': {\n",
    "                    '_id': '$fileId',\n",
    "                    'totalSuccessCount': {\n",
    "                        '$sum': {\n",
    "                            '$cond': [\n",
    "                                {'$eq': ['$status', 'success']},\n",
    "                                1,\n",
    "                                0\n",
    "                            ]\n",
    "                        }    \n",
    "                    },\n",
    "                    'tableExtractorSuccessCount': {\n",
    "                        '$sum': {\n",
    "                            '$cond': [\n",
    "                                { '$and': [{'$eq': ['$status', 'success']}, {'$eq': ['$parser', 'tableExtractor']}]},\n",
    "                                1,\n",
    "                                0\n",
    "                            ]\n",
    "                        }            \n",
    "                    },\n",
    "                    'hypoparsrSuccessCount': {\n",
    "                        '$sum': {\n",
    "                            '$cond': [\n",
    "                                { '$and': [{'$eq': ['$status', 'success']}, {'$eq': ['$parser', 'hypoparsr']}]},\n",
    "                                1,\n",
    "                                0\n",
    "                            ]\n",
    "                        }            \n",
    "                    },\n",
    "                    'cleverCSVSuccessCount': {\n",
    "                        '$sum': {\n",
    "                            '$cond': [\n",
    "                                { '$and': [{'$eq': ['$status', 'success']}, {'$eq': ['$parser', 'cleverCSV']}]},\n",
    "                                1,\n",
    "                                0\n",
    "                            ]\n",
    "                        }            \n",
    "                    },\n",
    "                    'snifferSuccessCount': {\n",
    "                        '$sum': {\n",
    "                            '$cond': [\n",
    "                                { '$and': [{'$eq': ['$status', 'success']}, {'$eq': ['$parser', 'sniffer']}]},\n",
    "                                1,\n",
    "                                0\n",
    "                            ]\n",
    "                        }            \n",
    "                    }\n",
    "                }\n",
    "            },{\n",
    "                '$group': {\n",
    "                    '_id': '$totalSuccessCount',\n",
    "                    'total': {'$sum': 1} ,\n",
    "                    'tableExtractorSuccessFileCount': {'$sum': '$tableExtractorSuccessCount'},\n",
    "                    'hypoparsrSuccessFileCount': {'$sum': '$hypoparsrSuccessCount'},\n",
    "                    'cleverCSVSuccessFileCount': {'$sum': '$cleverCSVSuccessCount'},\n",
    "                    'snifferSuccessFileCount': {'$sum': '$snifferSuccessCount'} \n",
    "                }    \n",
    "            }\n",
    "        ])"
   ]
  },
  {
   "cell_type": "code",
   "execution_count": 20,
   "metadata": {},
   "outputs": [
    {
     "data": {
      "text/plain": [
       "<matplotlib.axes._subplots.AxesSubplot at 0x7fea40759220>"
      ]
     },
     "execution_count": 20,
     "metadata": {},
     "output_type": "execute_result"
    },
    {
     "data": {
      "image/png": "[encoded data removed]",
      "text/plain": [
       "<Figure size 420.945x257.557 with 1 Axes>"
      ]
     },
     "metadata": {},
     "output_type": "display_data"
    }
   ],
   "source": [
    "pd.DataFrame([\n",
    "    {\n",
    "        'total\\_success\\_count': file_count_per_success_count['_id'],\n",
    "        'file\\_count': file_count_per_success_count['total'],\n",
    "        'tableExtractor\\_success\\_file\\_count': file_count_per_success_count['tableExtractorSuccessFileCount'],\n",
    "        'hypoparsr\\_success\\_file\\_count': file_count_per_success_count['hypoparsrSuccessFileCount'],\n",
    "        'cleverCSV\\_success\\_file\\_count': file_count_per_success_count['cleverCSVSuccessFileCount'],\n",
    "        'sniffer\\_success\\_file\\_count': file_count_per_success_count['snifferSuccessFileCount'],\n",
    "    }\n",
    "    for file_count_per_success_count in get_success_count_metrics()\n",
    "]).sort_values(by=['total\\_success\\_count'], ascending=[False]).plot(kind='bar', x='total\\_success\\_count')"
   ]
  }
 ],
 "metadata": {
  "kernelspec": {
   "display_name": "Python 3",
   "language": "python",
   "name": "python3"
  },
  "language_info": {
   "codemirror_mode": {
    "name": "ipython",
    "version": 3
   },
   "file_extension": ".py",
   "mimetype": "text/x-python",
   "name": "python",
   "nbconvert_exporter": "python",
   "pygments_lexer": "ipython3",
   "version": "3.8.5"
  }
 },
 "nbformat": 4,
 "nbformat_minor": 5
}
